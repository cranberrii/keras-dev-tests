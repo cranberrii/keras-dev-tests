{
 "cells": [
  {
   "cell_type": "raw",
   "metadata": {},
   "source": [
    "# https://www.kaggle.com/ntnu-testimon/paysim1\n",
    "\n",
    "# https://towardsdatascience.com/extreme-rare-event-classification-using-autoencoders-in-keras-a565b386f098"
   ]
  },
  {
   "cell_type": "code",
   "execution_count": 1,
   "metadata": {},
   "outputs": [
    {
     "name": "stderr",
     "output_type": "stream",
     "text": [
      "/anaconda3/envs/work_3.7/lib/python3.7/site-packages/requests/__init__.py:91: RequestsDependencyWarning: urllib3 (1.24.1) or chardet (2.3.0) doesn't match a supported version!\n",
      "  RequestsDependencyWarning)\n",
      "Using TensorFlow backend.\n"
     ]
    }
   ],
   "source": [
    "import pandas as pd\n",
    "import numpy as np\n",
    "\n",
    "import matplotlib.pyplot as plt\n",
    "import seaborn as sns\n",
    "\n",
    "from sklearn.model_selection import train_test_split, learning_curve\n",
    "from sklearn.metrics import average_precision_score, accuracy_score, confusion_matrix, \\\n",
    "classification_report, precision_recall_curve, recall_score, auc, roc_curve, precision_recall_fscore_support, f1_score\n",
    "from sklearn.ensemble import RandomForestClassifier, GradientBoostingClassifier, AdaBoostClassifier\n",
    "from sklearn.utils.class_weight import compute_sample_weight\n",
    "from sklearn.preprocessing import StandardScaler\n",
    "\n",
    "import tensorflow as tf\n",
    "from keras.models import Model, load_model\n",
    "from keras.layers import Input, Dense\n",
    "from keras.callbacks import ModelCheckpoint, TensorBoard\n",
    "from keras import regularizers\n",
    "\n",
    "from numpy.random import seed\n",
    "seed(1)\n",
    "from tensorflow import set_random_seed\n",
    "set_random_seed(2)\n",
    "\n",
    "SEED = 123 #used to help randomly select the data points\n",
    "DATA_SPLIT_PCT = 0.2\n",
    "\n",
    "plt.style.use('fivethirtyeight')\n",
    "%matplotlib inline"
   ]
  },
  {
   "cell_type": "code",
   "execution_count": 2,
   "metadata": {},
   "outputs": [
    {
     "data": {
      "text/plain": [
       "'1.13.1'"
      ]
     },
     "execution_count": 2,
     "metadata": {},
     "output_type": "execute_result"
    }
   ],
   "source": [
    "tf.__version__"
   ]
  },
  {
   "cell_type": "code",
   "execution_count": 3,
   "metadata": {},
   "outputs": [
    {
     "data": {
      "text/html": [
       "<div>\n",
       "<style scoped>\n",
       "    .dataframe tbody tr th:only-of-type {\n",
       "        vertical-align: middle;\n",
       "    }\n",
       "\n",
       "    .dataframe tbody tr th {\n",
       "        vertical-align: top;\n",
       "    }\n",
       "\n",
       "    .dataframe thead th {\n",
       "        text-align: right;\n",
       "    }\n",
       "</style>\n",
       "<table border=\"1\" class=\"dataframe\">\n",
       "  <thead>\n",
       "    <tr style=\"text-align: right;\">\n",
       "      <th></th>\n",
       "      <th>step</th>\n",
       "      <th>type</th>\n",
       "      <th>amount</th>\n",
       "      <th>nameOrig</th>\n",
       "      <th>oldbalanceOrg</th>\n",
       "      <th>newbalanceOrig</th>\n",
       "      <th>nameDest</th>\n",
       "      <th>oldbalanceDest</th>\n",
       "      <th>newbalanceDest</th>\n",
       "      <th>isFraud</th>\n",
       "      <th>isFlaggedFraud</th>\n",
       "    </tr>\n",
       "  </thead>\n",
       "  <tbody>\n",
       "    <tr>\n",
       "      <th>0</th>\n",
       "      <td>1</td>\n",
       "      <td>PAYMENT</td>\n",
       "      <td>9839.64</td>\n",
       "      <td>C1231006815</td>\n",
       "      <td>170136.0</td>\n",
       "      <td>160296.36</td>\n",
       "      <td>M1979787155</td>\n",
       "      <td>0.0</td>\n",
       "      <td>0.0</td>\n",
       "      <td>0</td>\n",
       "      <td>0</td>\n",
       "    </tr>\n",
       "    <tr>\n",
       "      <th>1</th>\n",
       "      <td>1</td>\n",
       "      <td>PAYMENT</td>\n",
       "      <td>1864.28</td>\n",
       "      <td>C1666544295</td>\n",
       "      <td>21249.0</td>\n",
       "      <td>19384.72</td>\n",
       "      <td>M2044282225</td>\n",
       "      <td>0.0</td>\n",
       "      <td>0.0</td>\n",
       "      <td>0</td>\n",
       "      <td>0</td>\n",
       "    </tr>\n",
       "    <tr>\n",
       "      <th>2</th>\n",
       "      <td>1</td>\n",
       "      <td>TRANSFER</td>\n",
       "      <td>181.00</td>\n",
       "      <td>C1305486145</td>\n",
       "      <td>181.0</td>\n",
       "      <td>0.00</td>\n",
       "      <td>C553264065</td>\n",
       "      <td>0.0</td>\n",
       "      <td>0.0</td>\n",
       "      <td>1</td>\n",
       "      <td>0</td>\n",
       "    </tr>\n",
       "    <tr>\n",
       "      <th>3</th>\n",
       "      <td>1</td>\n",
       "      <td>CASH_OUT</td>\n",
       "      <td>181.00</td>\n",
       "      <td>C840083671</td>\n",
       "      <td>181.0</td>\n",
       "      <td>0.00</td>\n",
       "      <td>C38997010</td>\n",
       "      <td>21182.0</td>\n",
       "      <td>0.0</td>\n",
       "      <td>1</td>\n",
       "      <td>0</td>\n",
       "    </tr>\n",
       "    <tr>\n",
       "      <th>4</th>\n",
       "      <td>1</td>\n",
       "      <td>PAYMENT</td>\n",
       "      <td>11668.14</td>\n",
       "      <td>C2048537720</td>\n",
       "      <td>41554.0</td>\n",
       "      <td>29885.86</td>\n",
       "      <td>M1230701703</td>\n",
       "      <td>0.0</td>\n",
       "      <td>0.0</td>\n",
       "      <td>0</td>\n",
       "      <td>0</td>\n",
       "    </tr>\n",
       "  </tbody>\n",
       "</table>\n",
       "</div>"
      ],
      "text/plain": [
       "   step      type    amount     nameOrig  oldbalanceOrg  newbalanceOrig  \\\n",
       "0     1   PAYMENT   9839.64  C1231006815       170136.0       160296.36   \n",
       "1     1   PAYMENT   1864.28  C1666544295        21249.0        19384.72   \n",
       "2     1  TRANSFER    181.00  C1305486145          181.0            0.00   \n",
       "3     1  CASH_OUT    181.00   C840083671          181.0            0.00   \n",
       "4     1   PAYMENT  11668.14  C2048537720        41554.0        29885.86   \n",
       "\n",
       "      nameDest  oldbalanceDest  newbalanceDest  isFraud  isFlaggedFraud  \n",
       "0  M1979787155             0.0             0.0        0               0  \n",
       "1  M2044282225             0.0             0.0        0               0  \n",
       "2   C553264065             0.0             0.0        1               0  \n",
       "3    C38997010         21182.0             0.0        1               0  \n",
       "4  M1230701703             0.0             0.0        0               0  "
      ]
     },
     "execution_count": 3,
     "metadata": {},
     "output_type": "execute_result"
    }
   ],
   "source": [
    "df = pd.read_csv('data/PS_20174392719_1491204439457_log.csv')\n",
    "\n",
    "df.head()"
   ]
  },
  {
   "cell_type": "code",
   "execution_count": 4,
   "metadata": {},
   "outputs": [
    {
     "data": {
      "text/html": [
       "<div>\n",
       "<style scoped>\n",
       "    .dataframe tbody tr th:only-of-type {\n",
       "        vertical-align: middle;\n",
       "    }\n",
       "\n",
       "    .dataframe tbody tr th {\n",
       "        vertical-align: top;\n",
       "    }\n",
       "\n",
       "    .dataframe thead th {\n",
       "        text-align: right;\n",
       "    }\n",
       "</style>\n",
       "<table border=\"1\" class=\"dataframe\">\n",
       "  <thead>\n",
       "    <tr style=\"text-align: right;\">\n",
       "      <th></th>\n",
       "      <th>step</th>\n",
       "      <th>amount</th>\n",
       "      <th>oldbalanceOrg</th>\n",
       "      <th>newbalanceOrig</th>\n",
       "      <th>oldbalanceDest</th>\n",
       "      <th>newbalanceDest</th>\n",
       "      <th>isFraud</th>\n",
       "      <th>isFlaggedFraud</th>\n",
       "    </tr>\n",
       "  </thead>\n",
       "  <tbody>\n",
       "    <tr>\n",
       "      <th>count</th>\n",
       "      <td>6.362620e+06</td>\n",
       "      <td>6.362620e+06</td>\n",
       "      <td>6.362620e+06</td>\n",
       "      <td>6.362620e+06</td>\n",
       "      <td>6.362620e+06</td>\n",
       "      <td>6.362620e+06</td>\n",
       "      <td>6.362620e+06</td>\n",
       "      <td>6.362620e+06</td>\n",
       "    </tr>\n",
       "    <tr>\n",
       "      <th>mean</th>\n",
       "      <td>2.433972e+02</td>\n",
       "      <td>1.798619e+05</td>\n",
       "      <td>8.338831e+05</td>\n",
       "      <td>8.551137e+05</td>\n",
       "      <td>1.100702e+06</td>\n",
       "      <td>1.224996e+06</td>\n",
       "      <td>1.290820e-03</td>\n",
       "      <td>2.514687e-06</td>\n",
       "    </tr>\n",
       "    <tr>\n",
       "      <th>std</th>\n",
       "      <td>1.423320e+02</td>\n",
       "      <td>6.038582e+05</td>\n",
       "      <td>2.888243e+06</td>\n",
       "      <td>2.924049e+06</td>\n",
       "      <td>3.399180e+06</td>\n",
       "      <td>3.674129e+06</td>\n",
       "      <td>3.590480e-02</td>\n",
       "      <td>1.585775e-03</td>\n",
       "    </tr>\n",
       "    <tr>\n",
       "      <th>min</th>\n",
       "      <td>1.000000e+00</td>\n",
       "      <td>0.000000e+00</td>\n",
       "      <td>0.000000e+00</td>\n",
       "      <td>0.000000e+00</td>\n",
       "      <td>0.000000e+00</td>\n",
       "      <td>0.000000e+00</td>\n",
       "      <td>0.000000e+00</td>\n",
       "      <td>0.000000e+00</td>\n",
       "    </tr>\n",
       "    <tr>\n",
       "      <th>25%</th>\n",
       "      <td>1.560000e+02</td>\n",
       "      <td>1.338957e+04</td>\n",
       "      <td>0.000000e+00</td>\n",
       "      <td>0.000000e+00</td>\n",
       "      <td>0.000000e+00</td>\n",
       "      <td>0.000000e+00</td>\n",
       "      <td>0.000000e+00</td>\n",
       "      <td>0.000000e+00</td>\n",
       "    </tr>\n",
       "    <tr>\n",
       "      <th>50%</th>\n",
       "      <td>2.390000e+02</td>\n",
       "      <td>7.487194e+04</td>\n",
       "      <td>1.420800e+04</td>\n",
       "      <td>0.000000e+00</td>\n",
       "      <td>1.327057e+05</td>\n",
       "      <td>2.146614e+05</td>\n",
       "      <td>0.000000e+00</td>\n",
       "      <td>0.000000e+00</td>\n",
       "    </tr>\n",
       "    <tr>\n",
       "      <th>75%</th>\n",
       "      <td>3.350000e+02</td>\n",
       "      <td>2.087215e+05</td>\n",
       "      <td>1.073152e+05</td>\n",
       "      <td>1.442584e+05</td>\n",
       "      <td>9.430367e+05</td>\n",
       "      <td>1.111909e+06</td>\n",
       "      <td>0.000000e+00</td>\n",
       "      <td>0.000000e+00</td>\n",
       "    </tr>\n",
       "    <tr>\n",
       "      <th>max</th>\n",
       "      <td>7.430000e+02</td>\n",
       "      <td>9.244552e+07</td>\n",
       "      <td>5.958504e+07</td>\n",
       "      <td>4.958504e+07</td>\n",
       "      <td>3.560159e+08</td>\n",
       "      <td>3.561793e+08</td>\n",
       "      <td>1.000000e+00</td>\n",
       "      <td>1.000000e+00</td>\n",
       "    </tr>\n",
       "  </tbody>\n",
       "</table>\n",
       "</div>"
      ],
      "text/plain": [
       "               step        amount  oldbalanceOrg  newbalanceOrig  \\\n",
       "count  6.362620e+06  6.362620e+06   6.362620e+06    6.362620e+06   \n",
       "mean   2.433972e+02  1.798619e+05   8.338831e+05    8.551137e+05   \n",
       "std    1.423320e+02  6.038582e+05   2.888243e+06    2.924049e+06   \n",
       "min    1.000000e+00  0.000000e+00   0.000000e+00    0.000000e+00   \n",
       "25%    1.560000e+02  1.338957e+04   0.000000e+00    0.000000e+00   \n",
       "50%    2.390000e+02  7.487194e+04   1.420800e+04    0.000000e+00   \n",
       "75%    3.350000e+02  2.087215e+05   1.073152e+05    1.442584e+05   \n",
       "max    7.430000e+02  9.244552e+07   5.958504e+07    4.958504e+07   \n",
       "\n",
       "       oldbalanceDest  newbalanceDest       isFraud  isFlaggedFraud  \n",
       "count    6.362620e+06    6.362620e+06  6.362620e+06    6.362620e+06  \n",
       "mean     1.100702e+06    1.224996e+06  1.290820e-03    2.514687e-06  \n",
       "std      3.399180e+06    3.674129e+06  3.590480e-02    1.585775e-03  \n",
       "min      0.000000e+00    0.000000e+00  0.000000e+00    0.000000e+00  \n",
       "25%      0.000000e+00    0.000000e+00  0.000000e+00    0.000000e+00  \n",
       "50%      1.327057e+05    2.146614e+05  0.000000e+00    0.000000e+00  \n",
       "75%      9.430367e+05    1.111909e+06  0.000000e+00    0.000000e+00  \n",
       "max      3.560159e+08    3.561793e+08  1.000000e+00    1.000000e+00  "
      ]
     },
     "execution_count": 4,
     "metadata": {},
     "output_type": "execute_result"
    }
   ],
   "source": [
    "df.describe()"
   ]
  },
  {
   "cell_type": "code",
   "execution_count": 71,
   "metadata": {
    "scrolled": true
   },
   "outputs": [
    {
     "data": {
      "text/plain": [
       "19     3946\n",
       "187    3900\n",
       "18     3890\n",
       "235    3706\n",
       "307    3630\n",
       "15     3584\n",
       "163    3580\n",
       "139    3579\n",
       "186    3552\n",
       "43     3549\n",
       "305    3543\n",
       "403    3513\n",
       "17     3490\n",
       "36     3466\n",
       "355    3463\n",
       "304    3460\n",
       "14     3413\n",
       "16     3389\n",
       "402    3358\n",
       "354    3356\n",
       "42     3325\n",
       "306    3318\n",
       "259    3289\n",
       "379    3244\n",
       "162    3242\n",
       "331    3200\n",
       "13     3200\n",
       "188    3101\n",
       "44     3054\n",
       "20     3040\n",
       "       ... \n",
       "543       3\n",
       "623       3\n",
       "626       3\n",
       "87        3\n",
       "113       3\n",
       "655       2\n",
       "114       2\n",
       "76        2\n",
       "593       2\n",
       "693       2\n",
       "124       2\n",
       "708       2\n",
       "706       2\n",
       "622       2\n",
       "539       2\n",
       "28        2\n",
       "29        2\n",
       "293       2\n",
       "246       2\n",
       "245       2\n",
       "432       2\n",
       "729       2\n",
       "435       2\n",
       "725       2\n",
       "721       2\n",
       "54        2\n",
       "197       2\n",
       "627       2\n",
       "662       1\n",
       "112       1\n",
       "Name: step, Length: 743, dtype: int64"
      ]
     },
     "execution_count": 71,
     "metadata": {},
     "output_type": "execute_result"
    }
   ],
   "source": [
    "df['step'].value_counts()"
   ]
  },
  {
   "cell_type": "code",
   "execution_count": 3,
   "metadata": {},
   "outputs": [
    {
     "data": {
      "text/plain": [
       "0    6354407\n",
       "1       8213\n",
       "Name: isFraud, dtype: int64"
      ]
     },
     "execution_count": 3,
     "metadata": {},
     "output_type": "execute_result"
    }
   ],
   "source": [
    "df['isFraud'].value_counts()"
   ]
  },
  {
   "cell_type": "code",
   "execution_count": 9,
   "metadata": {},
   "outputs": [
    {
     "data": {
      "text/plain": [
       "0    6362604\n",
       "1         16\n",
       "Name: isFlaggedFraud, dtype: int64"
      ]
     },
     "execution_count": 9,
     "metadata": {},
     "output_type": "execute_result"
    }
   ],
   "source": [
    "df['isFlaggedFraud'].value_counts()"
   ]
  },
  {
   "cell_type": "code",
   "execution_count": 4,
   "metadata": {},
   "outputs": [
    {
     "data": {
      "text/plain": [
       "type      isFraud\n",
       "CASH_IN   0          1399284\n",
       "CASH_OUT  0          2233384\n",
       "          1             4116\n",
       "DEBIT     0            41432\n",
       "PAYMENT   0          2151495\n",
       "TRANSFER  0           528812\n",
       "          1             4097\n",
       "Name: type, dtype: int64"
      ]
     },
     "execution_count": 4,
     "metadata": {},
     "output_type": "execute_result"
    }
   ],
   "source": [
    "df.groupby(['type','isFraud']).type.count()"
   ]
  },
  {
   "cell_type": "code",
   "execution_count": 7,
   "metadata": {},
   "outputs": [
    {
     "data": {
      "image/png": "[encoded data removed]",
      "text/plain": [
       "<Figure size 720x360 with 2 Axes>"
      ]
     },
     "metadata": {
      "needs_background": "light"
     },
     "output_type": "display_data"
    }
   ],
   "source": [
    "# sns.distplot(df[df['isFraud']==1]['step'])\n",
    "\n",
    "g = sns.FacetGrid(df, col=\"isFraud\", height=5)\n",
    "g = g.map(sns.distplot, \"newbalanceOrig\")  #, bins=bins, color=\"m\")"
   ]
  },
  {
   "cell_type": "code",
   "execution_count": 5,
   "metadata": {},
   "outputs": [
    {
     "data": {
      "text/plain": [
       "False"
      ]
     },
     "execution_count": 5,
     "metadata": {},
     "output_type": "execute_result"
    }
   ],
   "source": [
    "(df.loc[df['type'] == 'CASH_OUT'].nameDest.str.contains('M')).any() # no merchants in CASH_OUT"
   ]
  },
  {
   "cell_type": "code",
   "execution_count": 6,
   "metadata": {
    "scrolled": true
   },
   "outputs": [
    {
     "data": {
      "text/plain": [
       "False"
      ]
     },
     "execution_count": 6,
     "metadata": {},
     "output_type": "execute_result"
    }
   ],
   "source": [
    "df[(df['isFraud'] == 1) & (df['type'] =='TRANSFER')]['nameDest']\\\n",
    ".isin(df[(df['isFraud'] == 1) & (df['type'] =='CASH_OUT')]['nameOrig']).any()"
   ]
  },
  {
   "cell_type": "code",
   "execution_count": null,
   "metadata": {},
   "outputs": [],
   "source": []
  },
  {
   "cell_type": "code",
   "execution_count": null,
   "metadata": {},
   "outputs": [],
   "source": [
    "# ignore isFlaggedFraud, nameOrig, nameDest cols as they are not significant "
   ]
  },
  {
   "cell_type": "code",
   "execution_count": 8,
   "metadata": {},
   "outputs": [],
   "source": [
    "# df = df.loc[(df.type == 'CASH_OUT') | (df.type == 'TRANSFER')]\n",
    "df = df[df['type']=='TRANSFER']\n",
    "\n",
    "# Y = X['isFraud']\n",
    "# del X['isFraud']\n",
    "\n",
    "# Eliminate columns shown to be irrelevant for analysis in the EDA\n",
    "df = df.drop(['nameOrig', 'nameDest', 'isFlaggedFraud', 'type'], axis = 1)\n",
    "\n",
    "# Binary-encoding of labelled data in 'type'\n",
    "# df.loc[df['type'] == 'TRANSFER', 'type'] = 0\n",
    "# df.loc[df['type'] == 'CASH_OUT', 'type'] = 1\n",
    "# df['type'] = df['type'].astype(int) # convert dtype('O') to dtype(int)"
   ]
  },
  {
   "cell_type": "code",
   "execution_count": 9,
   "metadata": {},
   "outputs": [
    {
     "name": "stdout",
     "output_type": "stream",
     "text": [
      "0.007687991758442811\n"
     ]
    }
   ],
   "source": [
    "print((sum(df['isFraud']) / len(df)))"
   ]
  },
  {
   "cell_type": "code",
   "execution_count": 10,
   "metadata": {},
   "outputs": [],
   "source": [
    "# new feature !\n",
    "# there is an error in calculating balance from the dataset\n",
    "\n",
    "df['errorBalanceOrig'] = df['newbalanceDest'] + df['amount'] - df['oldbalanceOrg']\n",
    "df['errorBalanceDest'] = df['oldbalanceDest'] + df['amount'] - df['newbalanceDest']"
   ]
  },
  {
   "cell_type": "code",
   "execution_count": 11,
   "metadata": {},
   "outputs": [
    {
     "data": {
      "text/html": [
       "<div>\n",
       "<style scoped>\n",
       "    .dataframe tbody tr th:only-of-type {\n",
       "        vertical-align: middle;\n",
       "    }\n",
       "\n",
       "    .dataframe tbody tr th {\n",
       "        vertical-align: top;\n",
       "    }\n",
       "\n",
       "    .dataframe thead th {\n",
       "        text-align: right;\n",
       "    }\n",
       "</style>\n",
       "<table border=\"1\" class=\"dataframe\">\n",
       "  <thead>\n",
       "    <tr style=\"text-align: right;\">\n",
       "      <th></th>\n",
       "      <th>step</th>\n",
       "      <th>amount</th>\n",
       "      <th>oldbalanceOrg</th>\n",
       "      <th>newbalanceOrig</th>\n",
       "      <th>oldbalanceDest</th>\n",
       "      <th>newbalanceDest</th>\n",
       "      <th>isFraud</th>\n",
       "      <th>errorBalanceOrig</th>\n",
       "      <th>errorBalanceDest</th>\n",
       "    </tr>\n",
       "  </thead>\n",
       "  <tbody>\n",
       "    <tr>\n",
       "      <th>2</th>\n",
       "      <td>1</td>\n",
       "      <td>181.00</td>\n",
       "      <td>181.00</td>\n",
       "      <td>0.0</td>\n",
       "      <td>0.00</td>\n",
       "      <td>0.00</td>\n",
       "      <td>1</td>\n",
       "      <td>0.00</td>\n",
       "      <td>181.00</td>\n",
       "    </tr>\n",
       "    <tr>\n",
       "      <th>19</th>\n",
       "      <td>1</td>\n",
       "      <td>215310.30</td>\n",
       "      <td>705.00</td>\n",
       "      <td>0.0</td>\n",
       "      <td>22425.00</td>\n",
       "      <td>0.00</td>\n",
       "      <td>0</td>\n",
       "      <td>214605.30</td>\n",
       "      <td>237735.30</td>\n",
       "    </tr>\n",
       "    <tr>\n",
       "      <th>24</th>\n",
       "      <td>1</td>\n",
       "      <td>311685.89</td>\n",
       "      <td>10835.00</td>\n",
       "      <td>0.0</td>\n",
       "      <td>6267.00</td>\n",
       "      <td>2719172.89</td>\n",
       "      <td>0</td>\n",
       "      <td>3020023.78</td>\n",
       "      <td>-2401220.00</td>\n",
       "    </tr>\n",
       "    <tr>\n",
       "      <th>58</th>\n",
       "      <td>1</td>\n",
       "      <td>62610.80</td>\n",
       "      <td>79114.00</td>\n",
       "      <td>16503.2</td>\n",
       "      <td>517.00</td>\n",
       "      <td>8383.29</td>\n",
       "      <td>0</td>\n",
       "      <td>-8119.91</td>\n",
       "      <td>54744.51</td>\n",
       "    </tr>\n",
       "    <tr>\n",
       "      <th>78</th>\n",
       "      <td>1</td>\n",
       "      <td>42712.39</td>\n",
       "      <td>10363.39</td>\n",
       "      <td>0.0</td>\n",
       "      <td>57901.66</td>\n",
       "      <td>24044.18</td>\n",
       "      <td>0</td>\n",
       "      <td>56393.18</td>\n",
       "      <td>76569.87</td>\n",
       "    </tr>\n",
       "  </tbody>\n",
       "</table>\n",
       "</div>"
      ],
      "text/plain": [
       "    step     amount  oldbalanceOrg  newbalanceOrig  oldbalanceDest  \\\n",
       "2      1     181.00         181.00             0.0            0.00   \n",
       "19     1  215310.30         705.00             0.0        22425.00   \n",
       "24     1  311685.89       10835.00             0.0         6267.00   \n",
       "58     1   62610.80       79114.00         16503.2          517.00   \n",
       "78     1   42712.39       10363.39             0.0        57901.66   \n",
       "\n",
       "    newbalanceDest  isFraud  errorBalanceOrig  errorBalanceDest  \n",
       "2             0.00        1              0.00            181.00  \n",
       "19            0.00        0         214605.30         237735.30  \n",
       "24      2719172.89        0        3020023.78       -2401220.00  \n",
       "58         8383.29        0          -8119.91          54744.51  \n",
       "78        24044.18        0          56393.18          76569.87  "
      ]
     },
     "execution_count": 11,
     "metadata": {},
     "output_type": "execute_result"
    }
   ],
   "source": [
    "df.head()"
   ]
  },
  {
   "cell_type": "code",
   "execution_count": 16,
   "metadata": {},
   "outputs": [
    {
     "data": {
      "image/png": "[encoded data removed]",
      "text/plain": [
       "<Figure size 720x360 with 2 Axes>"
      ]
     },
     "metadata": {
      "needs_background": "light"
     },
     "output_type": "display_data"
    }
   ],
   "source": [
    "g = sns.FacetGrid(df, col=\"isFraud\", height=5)\n",
    "g = g.map(sns.distplot, \"errorBalanceOrig\")  #, bins=bins, color=\"m\")"
   ]
  },
  {
   "cell_type": "code",
   "execution_count": null,
   "metadata": {},
   "outputs": [],
   "source": []
  },
  {
   "cell_type": "markdown",
   "metadata": {},
   "source": [
    "## autoencoder"
   ]
  },
  {
   "cell_type": "code",
   "execution_count": 17,
   "metadata": {},
   "outputs": [],
   "source": [
    "df_train, df_test = train_test_split(df, test_size=DATA_SPLIT_PCT, random_state=SEED)\n",
    "\n",
    "df_train, df_valid = train_test_split(df_train, test_size=DATA_SPLIT_PCT, random_state=SEED)\n",
    "\n",
    "df_train_0 = df_train.loc[df['isFraud'] == 0]\n",
    "df_train_1 = df_train.loc[df['isFraud'] == 1]\n",
    "df_train_0_x = df_train_0.drop(['isFraud'], axis=1)\n",
    "df_train_1_x = df_train_1.drop(['isFraud'], axis=1)\n",
    "\n",
    "df_valid_0 = df_valid.loc[df['isFraud'] == 0]\n",
    "df_valid_1 = df_valid.loc[df['isFraud'] == 1]\n",
    "df_valid_0_x = df_valid_0.drop(['isFraud'], axis=1)\n",
    "df_valid_1_x = df_valid_1.drop(['isFraud'], axis=1)\n",
    "\n",
    "df_test_0 = df_test.loc[df['isFraud'] == 0]\n",
    "df_test_1 = df_test.loc[df['isFraud'] == 1]\n",
    "df_test_0_x = df_test_0.drop(['isFraud'], axis=1)\n",
    "df_test_1_x = df_test_1.drop(['isFraud'], axis=1)"
   ]
  },
  {
   "cell_type": "code",
   "execution_count": 18,
   "metadata": {},
   "outputs": [
    {
     "name": "stdout",
     "output_type": "stream",
     "text": [
      "(338482, 9)\n",
      "(84585, 9)\n",
      "(105745, 9)\n"
     ]
    }
   ],
   "source": [
    "print(df_train_0.shape)\n",
    "print(df_valid_0.shape)\n",
    "print(df_test_0.shape)"
   ]
  },
  {
   "cell_type": "code",
   "execution_count": 16,
   "metadata": {},
   "outputs": [],
   "source": [
    "# df_valid_0_x.head(3)"
   ]
  },
  {
   "cell_type": "code",
   "execution_count": 19,
   "metadata": {},
   "outputs": [
    {
     "name": "stderr",
     "output_type": "stream",
     "text": [
      "/anaconda3/envs/work_3.7/lib/python3.7/site-packages/sklearn/preprocessing/data.py:645: DataConversionWarning: Data with input dtype int64, float64 were all converted to float64 by StandardScaler.\n",
      "  return self.partial_fit(X, y)\n",
      "/anaconda3/envs/work_3.7/lib/python3.7/site-packages/ipykernel_launcher.py:3: DataConversionWarning: Data with input dtype int64, float64 were all converted to float64 by StandardScaler.\n",
      "  This is separate from the ipykernel package so we can avoid doing imports until\n",
      "/anaconda3/envs/work_3.7/lib/python3.7/site-packages/ipykernel_launcher.py:5: DataConversionWarning: Data with input dtype int64, float64 were all converted to float64 by StandardScaler.\n",
      "  \"\"\"\n",
      "/anaconda3/envs/work_3.7/lib/python3.7/site-packages/ipykernel_launcher.py:6: DataConversionWarning: Data with input dtype int64, float64 were all converted to float64 by StandardScaler.\n",
      "  \n",
      "/anaconda3/envs/work_3.7/lib/python3.7/site-packages/ipykernel_launcher.py:8: DataConversionWarning: Data with input dtype int64, float64 were all converted to float64 by StandardScaler.\n",
      "  \n",
      "/anaconda3/envs/work_3.7/lib/python3.7/site-packages/ipykernel_launcher.py:9: DataConversionWarning: Data with input dtype int64, float64 were all converted to float64 by StandardScaler.\n",
      "  if __name__ == '__main__':\n"
     ]
    }
   ],
   "source": [
    "scaler = StandardScaler().fit(df_train_0_x)\n",
    "\n",
    "df_train_0_x_rescaled = scaler.transform(df_train_0_x)\n",
    "\n",
    "df_valid_0_x_rescaled = scaler.transform(df_valid_0_x)\n",
    "df_valid_x_rescaled = scaler.transform(df_valid.drop(['isFraud'], axis = 1))\n",
    "\n",
    "df_test_0_x_rescaled = scaler.transform(df_test_0_x)\n",
    "df_test_x_rescaled = scaler.transform(df_test.drop(['isFraud'], axis = 1))"
   ]
  },
  {
   "cell_type": "code",
   "execution_count": 88,
   "metadata": {},
   "outputs": [
    {
     "data": {
      "text/plain": [
       "array([[-1.45636808, -0.21385599, -0.28395966, -0.07396141, -0.08130996,\n",
       "        -0.13210761],\n",
       "       [-1.59510873, -0.34815097, -0.28395966, -0.07396141, -0.00282217,\n",
       "         0.16218043],\n",
       "       [ 0.26401598, -0.27514111, -0.15711715, -0.07396141, -0.35717371,\n",
       "        -0.37273908]])"
      ]
     },
     "execution_count": 88,
     "metadata": {},
     "output_type": "execute_result"
    }
   ],
   "source": [
    "df_train_0_x_rescaled[0:3,]"
   ]
  },
  {
   "cell_type": "code",
   "execution_count": 57,
   "metadata": {},
   "outputs": [],
   "source": [
    "nb_epoch = 30\n",
    "batch_size = 128\n",
    "input_dim = df_train_0_x_rescaled.shape[1] # num of predictor variables, \n",
    "encoding_dim = 8  # total features = 9 \n",
    "hidden_dim = int(encoding_dim / 2)\n",
    "learning_rate = 1e-5\n",
    "\n",
    "input_layer = Input(shape=(input_dim, ))\n",
    "\n",
    "# TODO tanh or relu? \n",
    "encoder = Dense(encoding_dim, activation=\"tanh\", activity_regularizer=regularizers.l1(learning_rate))(input_layer)\n",
    "# encoder = Dense(int(hidden_dim*2), activation=\"tanh\")(encoder)\n",
    "encoder = Dense(hidden_dim, activation=\"elu\")(encoder)\n",
    "\n",
    "decoder = Dense(hidden_dim, activation='tanh')(encoder)  # tanh\n",
    "# decoder = Dense(int(hidden_dim*2), activation='tanh')(decoder)\n",
    "decoder = Dense(input_dim, activation='elu')(decoder)\n",
    "\n",
    "autoencoder = Model(inputs=input_layer, outputs=decoder)"
   ]
  },
  {
   "cell_type": "code",
   "execution_count": 58,
   "metadata": {
    "scrolled": true
   },
   "outputs": [
    {
     "name": "stdout",
     "output_type": "stream",
     "text": [
      "Train on 338482 samples, validate on 84585 samples\n",
      "Epoch 1/30\n",
      "338482/338482 [==============================] - 3s 10us/step - loss: 0.5776 - acc: 0.7325 - val_loss: 0.4103 - val_acc: 0.8759\n",
      "Epoch 2/30\n",
      "338482/338482 [==============================] - 3s 9us/step - loss: 0.3794 - acc: 0.8833 - val_loss: 0.3491 - val_acc: 0.8799\n",
      "Epoch 3/30\n",
      "338482/338482 [==============================] - 3s 9us/step - loss: 0.3371 - acc: 0.8874 - val_loss: 0.3197 - val_acc: 0.8848\n",
      "Epoch 4/30\n",
      "338482/338482 [==============================] - 3s 9us/step - loss: 0.3155 - acc: 0.8882 - val_loss: 0.3038 - val_acc: 0.8939\n",
      "Epoch 5/30\n",
      "338482/338482 [==============================] - 3s 9us/step - loss: 0.3018 - acc: 0.8897 - val_loss: 0.2911 - val_acc: 0.8823\n",
      "Epoch 6/30\n",
      "338482/338482 [==============================] - 3s 10us/step - loss: 0.2919 - acc: 0.8914 - val_loss: 0.2807 - val_acc: 0.8974\n",
      "Epoch 7/30\n",
      "338482/338482 [==============================] - 3s 9us/step - loss: 0.2851 - acc: 0.8919 - val_loss: 0.2747 - val_acc: 0.8886\n",
      "Epoch 8/30\n",
      "338482/338482 [==============================] - 3s 9us/step - loss: 0.2790 - acc: 0.8924 - val_loss: 0.2692 - val_acc: 0.8852\n",
      "Epoch 9/30\n",
      "338482/338482 [==============================] - 3s 9us/step - loss: 0.2753 - acc: 0.8921 - val_loss: 0.2642 - val_acc: 0.8967\n",
      "Epoch 10/30\n",
      "338482/338482 [==============================] - 3s 9us/step - loss: 0.2732 - acc: 0.8916 - val_loss: 0.2648 - val_acc: 0.8910\n",
      "Epoch 11/30\n",
      "338482/338482 [==============================] - 3s 10us/step - loss: 0.2667 - acc: 0.8931 - val_loss: 0.2566 - val_acc: 0.8905\n",
      "Epoch 12/30\n",
      "338482/338482 [==============================] - 3s 10us/step - loss: 0.2648 - acc: 0.8921 - val_loss: 0.2532 - val_acc: 0.8986\n",
      "Epoch 13/30\n",
      "338482/338482 [==============================] - 3s 9us/step - loss: 0.2627 - acc: 0.8923 - val_loss: 0.2512 - val_acc: 0.8896\n",
      "Epoch 14/30\n",
      "338482/338482 [==============================] - 3s 9us/step - loss: 0.2594 - acc: 0.8921 - val_loss: 0.2610 - val_acc: 0.8780\n",
      "Epoch 15/30\n",
      "338482/338482 [==============================] - 3s 9us/step - loss: 0.2582 - acc: 0.8921 - val_loss: 0.2458 - val_acc: 0.9034\n",
      "Epoch 16/30\n",
      "338482/338482 [==============================] - 3s 9us/step - loss: 0.2559 - acc: 0.8917 - val_loss: 0.2437 - val_acc: 0.8911\n",
      "Epoch 17/30\n",
      "338482/338482 [==============================] - 3s 9us/step - loss: 0.2539 - acc: 0.8923 - val_loss: 0.2426 - val_acc: 0.8933\n",
      "Epoch 18/30\n",
      "338482/338482 [==============================] - 3s 9us/step - loss: 0.2522 - acc: 0.8918 - val_loss: 0.2406 - val_acc: 0.8864\n",
      "Epoch 19/30\n",
      "338482/338482 [==============================] - 3s 9us/step - loss: 0.2508 - acc: 0.8913 - val_loss: 0.2380 - val_acc: 0.8980\n",
      "Epoch 20/30\n",
      "338482/338482 [==============================] - 3s 9us/step - loss: 0.2491 - acc: 0.8915 - val_loss: 0.2369 - val_acc: 0.8935\n",
      "Epoch 21/30\n",
      "338482/338482 [==============================] - 3s 9us/step - loss: 0.2476 - acc: 0.8917 - val_loss: 0.2374 - val_acc: 0.8912\n",
      "Epoch 22/30\n",
      "338482/338482 [==============================] - 3s 9us/step - loss: 0.2466 - acc: 0.8923 - val_loss: 0.2344 - val_acc: 0.8883\n",
      "Epoch 23/30\n",
      "338482/338482 [==============================] - 3s 9us/step - loss: 0.2447 - acc: 0.8926 - val_loss: 0.2323 - val_acc: 0.8878TA: 1s\n",
      "Epoch 24/30\n",
      "338482/338482 [==============================] - 3s 9us/step - loss: 0.2438 - acc: 0.8928 - val_loss: 0.2318 - val_acc: 0.8972\n",
      "Epoch 25/30\n",
      "338482/338482 [==============================] - 3s 9us/step - loss: 0.2424 - acc: 0.8933 - val_loss: 0.2326 - val_acc: 0.8971oss: 0.238\n",
      "Epoch 26/30\n",
      "338482/338482 [==============================] - 3s 9us/step - loss: 0.2415 - acc: 0.8935 - val_loss: 0.2282 - val_acc: 0.8969\n",
      "Epoch 27/30\n",
      "338482/338482 [==============================] - 3s 9us/step - loss: 0.2398 - acc: 0.8948 - val_loss: 0.2350 - val_acc: 0.8885\n",
      "Epoch 28/30\n",
      "338482/338482 [==============================] - 3s 9us/step - loss: 0.2393 - acc: 0.8947 - val_loss: 0.2261 - val_acc: 0.9016\n",
      "Epoch 29/30\n",
      "338482/338482 [==============================] - 3s 9us/step - loss: 0.2381 - acc: 0.8950 - val_loss: 0.2257 - val_acc: 0.8958\n",
      "Epoch 30/30\n",
      "338482/338482 [==============================] - 3s 9us/step - loss: 0.2375 - acc: 0.8952 - val_loss: 0.2253 - val_acc: 0.8983\n"
     ]
    }
   ],
   "source": [
    "autoencoder.compile(metrics=['accuracy'],\n",
    "                    loss='mean_squared_error',\n",
    "                    optimizer='adam')\n",
    "\n",
    "cp = ModelCheckpoint(filepath=\"autoencoder_classifier.h5\",\n",
    "                               save_best_only=True,\n",
    "                               verbose=0)\n",
    "\n",
    "tb = TensorBoard(log_dir='./logs',\n",
    "                histogram_freq=0,\n",
    "                write_graph=True,\n",
    "                write_images=True)\n",
    "\n",
    "history = autoencoder.fit(df_train_0_x_rescaled, df_train_0_x_rescaled, \n",
    "                          epochs=nb_epoch, \n",
    "                          batch_size=batch_size, \n",
    "                          shuffle=True,\n",
    "                          validation_data=(df_valid_0_x_rescaled, df_valid_0_x_rescaled),\n",
    "                          verbose=1,\n",
    "                          callbacks=[cp, tb]).history"
   ]
  },
  {
   "cell_type": "raw",
   "metadata": {},
   "source": [
    "!tensorboard --logdir=Documents/work-dev/logs"
   ]
  },
  {
   "cell_type": "code",
   "execution_count": 25,
   "metadata": {},
   "outputs": [],
   "source": [
    "# TODO load saved model\n",
    "\n",
    "autoencoder = load_model('autoencoder_classifier.h5')"
   ]
  },
  {
   "cell_type": "code",
   "execution_count": 27,
   "metadata": {
    "scrolled": true
   },
   "outputs": [
    {
     "data": {
      "text/plain": [
       "{'val_loss': [0.6630562547156311,\n",
       "  0.6529519980190324,\n",
       "  0.6504876398325685,\n",
       "  0.6483938576321854,\n",
       "  0.6480204324166269,\n",
       "  0.6472898006969474,\n",
       "  0.6489036869955533,\n",
       "  0.6471878466148738,\n",
       "  0.6479401341074675,\n",
       "  0.6467373647533453,\n",
       "  0.6464551255498899,\n",
       "  0.6461330895656924,\n",
       "  0.646169114134875,\n",
       "  0.6466663583151244,\n",
       "  0.6461808465926361,\n",
       "  0.6458986542661358,\n",
       "  0.6459542349316504,\n",
       "  0.6469094587656992,\n",
       "  0.646547384878884,\n",
       "  0.6459106815574249,\n",
       "  0.6456031839225481,\n",
       "  0.6456178766156424,\n",
       "  0.6477147580775984,\n",
       "  0.645640782734625,\n",
       "  0.6457617756938754,\n",
       "  0.6455397360133859,\n",
       "  0.6459758204141041,\n",
       "  0.6464137610982846,\n",
       "  0.6457148683628179,\n",
       "  0.6457183875269928],\n",
       " 'val_acc': [0.8723887214108463,\n",
       "  0.8932198380369761,\n",
       "  0.9137081042773307,\n",
       "  0.898977360057656,\n",
       "  0.9005379204407027,\n",
       "  0.9020275462608836,\n",
       "  0.8894484837793561,\n",
       "  0.9133297866094181,\n",
       "  0.903245256256041,\n",
       "  0.9118165159328346,\n",
       "  0.9059171247899466,\n",
       "  0.9042856298454435,\n",
       "  0.9125495064164855,\n",
       "  0.9064018443021579,\n",
       "  0.9065200685736008,\n",
       "  0.9130815156393879,\n",
       "  0.9068629189607853,\n",
       "  0.9023822190745077,\n",
       "  0.9082461429373722,\n",
       "  0.8959981084165897,\n",
       "  0.9084353017723855,\n",
       "  0.9199267009552288,\n",
       "  0.8936690902677547,\n",
       "  0.9151149731082063,\n",
       "  0.9116628243834821,\n",
       "  0.912395814865019,\n",
       "  0.9060117042078055,\n",
       "  0.9099249275911571,\n",
       "  0.913956375247361,\n",
       "  0.9206005793024534],\n",
       " 'loss': [0.7301183641204511,\n",
       "  0.6677830929675964,\n",
       "  0.661853216179651,\n",
       "  0.6599862471558072,\n",
       "  0.6590005544543146,\n",
       "  0.658649865671075,\n",
       "  0.6583000100009005,\n",
       "  0.6580986068454018,\n",
       "  0.657835232694884,\n",
       "  0.6578075892370947,\n",
       "  0.6574964283950874,\n",
       "  0.6574139763370546,\n",
       "  0.6571997308338601,\n",
       "  0.6575826040038302,\n",
       "  0.6571273348047496,\n",
       "  0.6569377894256195,\n",
       "  0.6572211542254106,\n",
       "  0.6568769939216631,\n",
       "  0.656887737040794,\n",
       "  0.6568108179097052,\n",
       "  0.6568772189412507,\n",
       "  0.6567149564119588,\n",
       "  0.6568902654357617,\n",
       "  0.6567358658318273,\n",
       "  0.6567441960504893,\n",
       "  0.656697569019037,\n",
       "  0.6566943425535201,\n",
       "  0.6566657004412432,\n",
       "  0.6567063406831355,\n",
       "  0.6565820421881801],\n",
       " 'acc': [0.7262513220749389,\n",
       "  0.8908036468697348,\n",
       "  0.9005973729759408,\n",
       "  0.9033006186408964,\n",
       "  0.9041219326310836,\n",
       "  0.9048575699706569,\n",
       "  0.9054129909440244,\n",
       "  0.906494289211345,\n",
       "  0.9063790688982218,\n",
       "  0.9071797023208137,\n",
       "  0.9074042341982167,\n",
       "  0.907073345111057,\n",
       "  0.9074249147686295,\n",
       "  0.9065563309092002,\n",
       "  0.9078089824562653,\n",
       "  0.9080778298431045,\n",
       "  0.907711488353749,\n",
       "  0.9079242027665709,\n",
       "  0.9078267086573631,\n",
       "  0.9078060280922331,\n",
       "  0.9074958195705556,\n",
       "  0.9080069250327258,\n",
       "  0.9077173970811089,\n",
       "  0.9082314569122419,\n",
       "  0.9078917047284074,\n",
       "  0.9080246512366412,\n",
       "  0.9079330658607805,\n",
       "  0.907681944678561,\n",
       "  0.907699670880011,\n",
       "  0.9082314569157639]}"
      ]
     },
     "execution_count": 27,
     "metadata": {},
     "output_type": "execute_result"
    }
   ],
   "source": [
    "history"
   ]
  },
  {
   "cell_type": "code",
   "execution_count": 59,
   "metadata": {},
   "outputs": [
    {
     "data": {
      "text/plain": [
       "<matplotlib.legend.Legend at 0x133162b00>"
      ]
     },
     "execution_count": 59,
     "metadata": {},
     "output_type": "execute_result"
    },
    {
     "data": {
      "image/png": "[encoded data removed]",
      "text/plain": [
       "<Figure size 432x288 with 1 Axes>"
      ]
     },
     "metadata": {
      "needs_background": "light"
     },
     "output_type": "display_data"
    }
   ],
   "source": [
    "plt.plot(history['loss'], linewidth=2)\n",
    "plt.plot(history['val_loss'], linewidth=2)\n",
    "\n",
    "plt.title('model loss')\n",
    "plt.ylabel('loss')\n",
    "plt.xlabel('epoch')\n",
    "plt.legend(['train', 'test'], loc='upper right')"
   ]
  },
  {
   "cell_type": "code",
   "execution_count": 60,
   "metadata": {},
   "outputs": [
    {
     "data": {
      "text/html": [
       "<div>\n",
       "<style scoped>\n",
       "    .dataframe tbody tr th:only-of-type {\n",
       "        vertical-align: middle;\n",
       "    }\n",
       "\n",
       "    .dataframe tbody tr th {\n",
       "        vertical-align: top;\n",
       "    }\n",
       "\n",
       "    .dataframe thead th {\n",
       "        text-align: right;\n",
       "    }\n",
       "</style>\n",
       "<table border=\"1\" class=\"dataframe\">\n",
       "  <thead>\n",
       "    <tr style=\"text-align: right;\">\n",
       "      <th></th>\n",
       "      <th>Reconstruction_error</th>\n",
       "      <th>True_class</th>\n",
       "    </tr>\n",
       "  </thead>\n",
       "  <tbody>\n",
       "    <tr>\n",
       "      <th>2845268</th>\n",
       "      <td>0.013864</td>\n",
       "      <td>0</td>\n",
       "    </tr>\n",
       "    <tr>\n",
       "      <th>6078768</th>\n",
       "      <td>0.002799</td>\n",
       "      <td>0</td>\n",
       "    </tr>\n",
       "    <tr>\n",
       "      <th>5362313</th>\n",
       "      <td>0.003602</td>\n",
       "      <td>0</td>\n",
       "    </tr>\n",
       "  </tbody>\n",
       "</table>\n",
       "</div>"
      ],
      "text/plain": [
       "         Reconstruction_error  True_class\n",
       "2845268              0.013864           0\n",
       "6078768              0.002799           0\n",
       "5362313              0.003602           0"
      ]
     },
     "execution_count": 60,
     "metadata": {},
     "output_type": "execute_result"
    }
   ],
   "source": [
    "valid_x_predictions = autoencoder.predict(df_valid_x_rescaled)\n",
    "\n",
    "mse = np.mean(np.power(df_valid_x_rescaled - valid_x_predictions, 2), axis=1)\n",
    "\n",
    "error_df = pd.DataFrame({'Reconstruction_error': mse,\n",
    "                        'True_class': df_valid['isFraud']})\n",
    "\n",
    "error_df.head(3)"
   ]
  },
  {
   "cell_type": "code",
   "execution_count": 61,
   "metadata": {},
   "outputs": [
    {
     "data": {
      "image/png": "[encoded data removed]",
      "text/plain": [
       "<Figure size 504x504 with 1 Axes>"
      ]
     },
     "metadata": {
      "needs_background": "light"
     },
     "output_type": "display_data"
    }
   ],
   "source": [
    "# max precision or recall of model is approx. 0.35 given threshold of 3\n",
    "\n",
    "precision_rt, recall_rt, threshold_rt = precision_recall_curve(error_df.True_class, error_df.Reconstruction_error)\n",
    "\n",
    "fig, ax = plt.subplots(figsize=(7,7))\n",
    "plt.plot(threshold_rt, precision_rt[1:], label=\"Precision\",linewidth=2)\n",
    "plt.plot(threshold_rt, recall_rt[1:], label=\"Recall\",linewidth=2)\n",
    "ax.set_xscale('log')\n",
    "\n",
    "plt.title('Precision and recall for different threshold values')\n",
    "plt.xlabel('Threshold')\n",
    "plt.ylabel('Precision/Recall')\n",
    "plt.legend(loc='best')\n",
    "plt.show()"
   ]
  },
  {
   "cell_type": "code",
   "execution_count": 1,
   "metadata": {},
   "outputs": [],
   "source": [
    "# a high recall will give a low precision (and vice versa), depending on the threshold\n",
    "# model has low precision / recall and is unable to differentiate normal from fraud well "
   ]
  },
  {
   "cell_type": "code",
   "execution_count": 62,
   "metadata": {},
   "outputs": [],
   "source": [
    "test_x_pred = autoencoder.predict(df_test_x_rescaled)\n",
    "\n",
    "mse = np.mean(np.power(df_test_x_rescaled - test_x_pred, 2), axis=1)\n",
    "error_df_test = pd.DataFrame({'Reconstruction_error': mse, 'True_class': df_test['isFraud']})\n",
    "error_df_test = error_df_test.reset_index()"
   ]
  },
  {
   "cell_type": "code",
   "execution_count": 63,
   "metadata": {},
   "outputs": [
    {
     "data": {
      "image/png": "[encoded data removed]",
      "text/plain": [
       "<Figure size 576x576 with 1 Axes>"
      ]
     },
     "metadata": {
      "needs_background": "light"
     },
     "output_type": "display_data"
    }
   ],
   "source": [
    "# reconstruct test data, those above threshold recon error will be labelled as 'fraud'\n",
    "\n",
    "threshold_fixed = 1\n",
    "\n",
    "fig, ax = plt.subplots(figsize=(8,8))\n",
    "\n",
    "groups = error_df_test.groupby('True_class')\n",
    "\n",
    "for name, group in groups:\n",
    "    ax.plot(group.index, group.Reconstruction_error, marker='o', ms=2.5, linestyle='',\n",
    "            label= \"Fraud\" if name == 1 else \"Normal\")\n",
    "\n",
    "ax.hlines(threshold_fixed, ax.get_xlim()[0], ax.get_xlim()[1], colors=\"r\", zorder=100, label='Threshold',linewidth=1)\n",
    "ax.legend()\n",
    "ax.set_yscale('log')\n",
    "plt.title(\"Reconstruction error for different classes\")\n",
    "plt.ylabel(\"Reconstruction error\")\n",
    "plt.xlabel(\"Data point index\")\n",
    "plt.show()"
   ]
  },
  {
   "cell_type": "code",
   "execution_count": 64,
   "metadata": {},
   "outputs": [
    {
     "data": {
      "image/png": "[encoded data removed]",
      "text/plain": [
       "<Figure size 360x360 with 2 Axes>"
      ]
     },
     "metadata": {
      "needs_background": "light"
     },
     "output_type": "display_data"
    }
   ],
   "source": [
    "pred_y = [1 if e > threshold_fixed else 0 for e in error_df.Reconstruction_error.values]\n",
    "\n",
    "conf_matrix = confusion_matrix(error_df.True_class, pred_y)\n",
    "\n",
    "plt.figure(figsize=(5, 5))\n",
    "sns.heatmap(conf_matrix.T, xticklabels=['Normal', 'Fraud'], yticklabels=['Normal', 'Fraud'], annot=True, fmt=\"d\")\n",
    "\n",
    "plt.title(\"Confusion matrix\")\n",
    "plt.ylabel('Predicted class')\n",
    "plt.xlabel('True class')\n",
    "plt.show()"
   ]
  },
  {
   "cell_type": "code",
   "execution_count": 65,
   "metadata": {},
   "outputs": [
    {
     "name": "stdout",
     "output_type": "stream",
     "text": [
      "              precision    recall  f1-score   support\n",
      "\n",
      "           0       1.00      0.99      0.99     84585\n",
      "           1       0.30      0.40      0.34       681\n",
      "\n",
      "   micro avg       0.99      0.99      0.99     85266\n",
      "   macro avg       0.65      0.69      0.67     85266\n",
      "weighted avg       0.99      0.99      0.99     85266\n",
      "\n"
     ]
    }
   ],
   "source": [
    "print(classification_report(error_df.True_class, pred_y))"
   ]
  },
  {
   "cell_type": "code",
   "execution_count": 66,
   "metadata": {},
   "outputs": [
    {
     "data": {
      "image/png": "[encoded data removed]",
      "text/plain": [
       "<Figure size 432x432 with 1 Axes>"
      ]
     },
     "metadata": {
      "needs_background": "light"
     },
     "output_type": "display_data"
    }
   ],
   "source": [
    "false_pos_rate, true_pos_rate, thresholds = roc_curve(error_df.True_class, error_df.Reconstruction_error)\n",
    "\n",
    "roc_auc = auc(false_pos_rate, true_pos_rate,)\n",
    "\n",
    "plt.figure(figsize=(6,6))\n",
    "plt.plot(false_pos_rate, true_pos_rate, linewidth=2, label='AUC = %0.3f'% roc_auc)\n",
    "plt.plot([0,1], [0,1], 'k--', linewidth=2)\n",
    "plt.xlim([-0.01, 1])\n",
    "plt.ylim([0, 1.01])\n",
    "plt.legend(loc='lower right')\n",
    "plt.title('Receiver operating characteristic curve (ROC)')\n",
    "plt.ylabel('True Positive Rate')\n",
    "plt.xlabel('False Positive Rate')\n",
    "plt.show()"
   ]
  },
  {
   "cell_type": "code",
   "execution_count": null,
   "metadata": {},
   "outputs": [],
   "source": []
  },
  {
   "cell_type": "code",
   "execution_count": null,
   "metadata": {},
   "outputs": [],
   "source": []
  },
  {
   "cell_type": "code",
   "execution_count": null,
   "metadata": {},
   "outputs": [],
   "source": []
  }
 ],
 "metadata": {
  "kernelspec": {
   "display_name": "Python 3",
   "language": "python",
   "name": "python3"
  },
  "language_info": {
   "codemirror_mode": {
    "name": "ipython",
    "version": 3
   },
   "file_extension": ".py",
   "mimetype": "text/x-python",
   "name": "python",
   "nbconvert_exporter": "python",
   "pygments_lexer": "ipython3",
   "version": "3.7.2"
  }
 },
 "nbformat": 4,
 "nbformat_minor": 2
}
